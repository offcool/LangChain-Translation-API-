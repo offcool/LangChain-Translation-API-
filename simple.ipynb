{
 "cells": [
  {
   "cell_type": "code",
   "execution_count": 1,
   "metadata": {},
   "outputs": [
    {
     "name": "stdout",
     "output_type": "stream",
     "text": [
      "Defaulting to user installation because normal site-packages is not writeable\n",
      "Requirement already satisfied: langsmith in c:\\users\\semeh sayadi\\appdata\\roaming\\python\\python312\\site-packages (0.1.129)\n",
      "Requirement already satisfied: httpx<1,>=0.23.0 in c:\\users\\semeh sayadi\\appdata\\roaming\\python\\python312\\site-packages (from langsmith) (0.27.2)\n",
      "Requirement already satisfied: orjson<4.0.0,>=3.9.14 in c:\\users\\semeh sayadi\\appdata\\roaming\\python\\python312\\site-packages (from langsmith) (3.10.7)\n",
      "Requirement already satisfied: pydantic<3,>=1 in c:\\users\\semeh sayadi\\appdata\\roaming\\python\\python312\\site-packages (from langsmith) (2.9.2)\n",
      "Requirement already satisfied: requests<3,>=2 in c:\\users\\semeh sayadi\\appdata\\roaming\\python\\python312\\site-packages (from langsmith) (2.32.3)\n",
      "Requirement already satisfied: anyio in c:\\users\\semeh sayadi\\appdata\\roaming\\python\\python312\\site-packages (from httpx<1,>=0.23.0->langsmith) (4.6.0)\n",
      "Requirement already satisfied: certifi in c:\\users\\semeh sayadi\\appdata\\roaming\\python\\python312\\site-packages (from httpx<1,>=0.23.0->langsmith) (2023.11.17)\n",
      "Requirement already satisfied: httpcore==1.* in c:\\users\\semeh sayadi\\appdata\\roaming\\python\\python312\\site-packages (from httpx<1,>=0.23.0->langsmith) (1.0.6)\n",
      "Requirement already satisfied: idna in c:\\users\\semeh sayadi\\appdata\\roaming\\python\\python312\\site-packages (from httpx<1,>=0.23.0->langsmith) (3.6)\n",
      "Requirement already satisfied: sniffio in c:\\users\\semeh sayadi\\appdata\\roaming\\python\\python312\\site-packages (from httpx<1,>=0.23.0->langsmith) (1.3.1)\n",
      "Requirement already satisfied: h11<0.15,>=0.13 in c:\\users\\semeh sayadi\\appdata\\roaming\\python\\python312\\site-packages (from httpcore==1.*->httpx<1,>=0.23.0->langsmith) (0.14.0)\n",
      "Requirement already satisfied: annotated-types>=0.6.0 in c:\\users\\semeh sayadi\\appdata\\roaming\\python\\python312\\site-packages (from pydantic<3,>=1->langsmith) (0.7.0)\n",
      "Requirement already satisfied: pydantic-core==2.23.4 in c:\\users\\semeh sayadi\\appdata\\roaming\\python\\python312\\site-packages (from pydantic<3,>=1->langsmith) (2.23.4)\n",
      "Requirement already satisfied: typing-extensions>=4.6.1 in c:\\users\\semeh sayadi\\appdata\\roaming\\python\\python312\\site-packages (from pydantic<3,>=1->langsmith) (4.12.2)\n",
      "Requirement already satisfied: charset-normalizer<4,>=2 in c:\\users\\semeh sayadi\\appdata\\roaming\\python\\python312\\site-packages (from requests<3,>=2->langsmith) (3.3.2)\n",
      "Requirement already satisfied: urllib3<3,>=1.21.1 in c:\\users\\semeh sayadi\\appdata\\roaming\\python\\python312\\site-packages (from requests<3,>=2->langsmith) (2.1.0)\n"
     ]
    }
   ],
   "source": [
    "!pip install langsmith"
   ]
  },
  {
   "cell_type": "code",
   "execution_count": 2,
   "metadata": {},
   "outputs": [
    {
     "data": {
      "text/plain": [
       "'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'"
      ]
     },
     "execution_count": 2,
     "metadata": {},
     "output_type": "execute_result"
    }
   ],
   "source": [
    "import os \n",
    "from dotenv import load_dotenv\n",
    "load_dotenv()\n",
    "\n",
    "import openai\n",
    "\n",
    "openai.api_key=os.getenv(\"OPENAI_API_KEY\")\n",
    "\n",
    "groq_api_key=os.getenv(\"GROQ_API_KEY\")\n",
    "groq_api_key"
   ]
  },
  {
   "cell_type": "code",
   "execution_count": 3,
   "metadata": {},
   "outputs": [
    {
     "name": "stdout",
     "output_type": "stream",
     "text": [
      "Defaulting to user installation because normal site-packages is not writeable\n",
      "Collecting langchain_groq\n",
      "  Downloading langchain_groq-0.2.0-py3-none-any.whl.metadata (2.9 kB)\n",
      "Collecting groq<1,>=0.4.1 (from langchain_groq)\n",
      "  Downloading groq-0.11.0-py3-none-any.whl.metadata (13 kB)\n",
      "Requirement already satisfied: langchain-core<0.4,>=0.3 in c:\\users\\semeh sayadi\\appdata\\roaming\\python\\python312\\site-packages (from langchain_groq) (0.3.10)\n",
      "Requirement already satisfied: anyio<5,>=3.5.0 in c:\\users\\semeh sayadi\\appdata\\roaming\\python\\python312\\site-packages (from groq<1,>=0.4.1->langchain_groq) (4.6.0)\n",
      "Requirement already satisfied: distro<2,>=1.7.0 in c:\\users\\semeh sayadi\\appdata\\roaming\\python\\python312\\site-packages (from groq<1,>=0.4.1->langchain_groq) (1.9.0)\n",
      "Requirement already satisfied: httpx<1,>=0.23.0 in c:\\users\\semeh sayadi\\appdata\\roaming\\python\\python312\\site-packages (from groq<1,>=0.4.1->langchain_groq) (0.27.2)\n",
      "Requirement already satisfied: pydantic<3,>=1.9.0 in c:\\users\\semeh sayadi\\appdata\\roaming\\python\\python312\\site-packages (from groq<1,>=0.4.1->langchain_groq) (2.9.2)\n",
      "Requirement already satisfied: sniffio in c:\\users\\semeh sayadi\\appdata\\roaming\\python\\python312\\site-packages (from groq<1,>=0.4.1->langchain_groq) (1.3.1)\n",
      "Requirement already satisfied: typing-extensions<5,>=4.7 in c:\\users\\semeh sayadi\\appdata\\roaming\\python\\python312\\site-packages (from groq<1,>=0.4.1->langchain_groq) (4.12.2)\n",
      "Requirement already satisfied: PyYAML>=5.3 in c:\\users\\semeh sayadi\\appdata\\roaming\\python\\python312\\site-packages (from langchain-core<0.4,>=0.3->langchain_groq) (6.0.2)\n",
      "Requirement already satisfied: jsonpatch<2.0,>=1.33 in c:\\users\\semeh sayadi\\appdata\\roaming\\python\\python312\\site-packages (from langchain-core<0.4,>=0.3->langchain_groq) (1.33)\n",
      "Requirement already satisfied: langsmith<0.2.0,>=0.1.125 in c:\\users\\semeh sayadi\\appdata\\roaming\\python\\python312\\site-packages (from langchain-core<0.4,>=0.3->langchain_groq) (0.1.129)\n",
      "Requirement already satisfied: packaging<25,>=23.2 in c:\\users\\semeh sayadi\\appdata\\roaming\\python\\python312\\site-packages (from langchain-core<0.4,>=0.3->langchain_groq) (23.2)\n",
      "Requirement already satisfied: tenacity!=8.4.0,<9.0.0,>=8.1.0 in c:\\users\\semeh sayadi\\appdata\\roaming\\python\\python312\\site-packages (from langchain-core<0.4,>=0.3->langchain_groq) (8.5.0)\n",
      "Requirement already satisfied: idna>=2.8 in c:\\users\\semeh sayadi\\appdata\\roaming\\python\\python312\\site-packages (from anyio<5,>=3.5.0->groq<1,>=0.4.1->langchain_groq) (3.6)\n",
      "Requirement already satisfied: certifi in c:\\users\\semeh sayadi\\appdata\\roaming\\python\\python312\\site-packages (from httpx<1,>=0.23.0->groq<1,>=0.4.1->langchain_groq) (2023.11.17)\n",
      "Requirement already satisfied: httpcore==1.* in c:\\users\\semeh sayadi\\appdata\\roaming\\python\\python312\\site-packages (from httpx<1,>=0.23.0->groq<1,>=0.4.1->langchain_groq) (1.0.6)\n",
      "Requirement already satisfied: h11<0.15,>=0.13 in c:\\users\\semeh sayadi\\appdata\\roaming\\python\\python312\\site-packages (from httpcore==1.*->httpx<1,>=0.23.0->groq<1,>=0.4.1->langchain_groq) (0.14.0)\n",
      "Requirement already satisfied: jsonpointer>=1.9 in c:\\users\\semeh sayadi\\appdata\\roaming\\python\\python312\\site-packages (from jsonpatch<2.0,>=1.33->langchain-core<0.4,>=0.3->langchain_groq) (3.0.0)\n",
      "Requirement already satisfied: orjson<4.0.0,>=3.9.14 in c:\\users\\semeh sayadi\\appdata\\roaming\\python\\python312\\site-packages (from langsmith<0.2.0,>=0.1.125->langchain-core<0.4,>=0.3->langchain_groq) (3.10.7)\n",
      "Requirement already satisfied: requests<3,>=2 in c:\\users\\semeh sayadi\\appdata\\roaming\\python\\python312\\site-packages (from langsmith<0.2.0,>=0.1.125->langchain-core<0.4,>=0.3->langchain_groq) (2.32.3)\n",
      "Requirement already satisfied: annotated-types>=0.6.0 in c:\\users\\semeh sayadi\\appdata\\roaming\\python\\python312\\site-packages (from pydantic<3,>=1.9.0->groq<1,>=0.4.1->langchain_groq) (0.7.0)\n",
      "Requirement already satisfied: pydantic-core==2.23.4 in c:\\users\\semeh sayadi\\appdata\\roaming\\python\\python312\\site-packages (from pydantic<3,>=1.9.0->groq<1,>=0.4.1->langchain_groq) (2.23.4)\n",
      "Requirement already satisfied: charset-normalizer<4,>=2 in c:\\users\\semeh sayadi\\appdata\\roaming\\python\\python312\\site-packages (from requests<3,>=2->langsmith<0.2.0,>=0.1.125->langchain-core<0.4,>=0.3->langchain_groq) (3.3.2)\n",
      "Requirement already satisfied: urllib3<3,>=1.21.1 in c:\\users\\semeh sayadi\\appdata\\roaming\\python\\python312\\site-packages (from requests<3,>=2->langsmith<0.2.0,>=0.1.125->langchain-core<0.4,>=0.3->langchain_groq) (2.1.0)\n",
      "Downloading langchain_groq-0.2.0-py3-none-any.whl (14 kB)\n",
      "Downloading groq-0.11.0-py3-none-any.whl (106 kB)\n",
      "Installing collected packages: groq, langchain_groq\n",
      "Successfully installed groq-0.11.0 langchain_groq-0.2.0\n"
     ]
    }
   ],
   "source": [
    "!pip install langchain_groq"
   ]
  },
  {
   "cell_type": "code",
   "execution_count": 4,
   "metadata": {},
   "outputs": [
    {
     "data": {
      "text/plain": [
       "ChatGroq(client=<groq.resources.chat.completions.Completions object at 0x0000021348D17DA0>, async_client=<groq.resources.chat.completions.AsyncCompletions object at 0x0000021348D2C980>, model_name='Gemma2-9b-It', model_kwargs={}, groq_api_key=SecretStr('**********'))"
      ]
     },
     "execution_count": 4,
     "metadata": {},
     "output_type": "execute_result"
    }
   ],
   "source": [
    "from langchain_groq import ChatGroq\n",
    "from langchain_openai import ChatOpenAI\n",
    "\n",
    "model = ChatGroq(model=\"Gemma2-9b-It\",groq_api_key=groq_api_key)\n",
    "model"
   ]
  },
  {
   "cell_type": "code",
   "execution_count": 5,
   "metadata": {},
   "outputs": [
    {
     "name": "stdout",
     "output_type": "stream",
     "text": [
      "Defaulting to user installation because normal site-packages is not writeable\n",
      "Requirement already satisfied: langchain_core in c:\\users\\semeh sayadi\\appdata\\roaming\\python\\python312\\site-packages (0.3.10)\n",
      "Requirement already satisfied: PyYAML>=5.3 in c:\\users\\semeh sayadi\\appdata\\roaming\\python\\python312\\site-packages (from langchain_core) (6.0.2)\n",
      "Requirement already satisfied: jsonpatch<2.0,>=1.33 in c:\\users\\semeh sayadi\\appdata\\roaming\\python\\python312\\site-packages (from langchain_core) (1.33)\n",
      "Requirement already satisfied: langsmith<0.2.0,>=0.1.125 in c:\\users\\semeh sayadi\\appdata\\roaming\\python\\python312\\site-packages (from langchain_core) (0.1.129)\n",
      "Requirement already satisfied: packaging<25,>=23.2 in c:\\users\\semeh sayadi\\appdata\\roaming\\python\\python312\\site-packages (from langchain_core) (23.2)\n",
      "Requirement already satisfied: pydantic<3.0.0,>=2.5.2 in c:\\users\\semeh sayadi\\appdata\\roaming\\python\\python312\\site-packages (from langchain_core) (2.9.2)\n",
      "Requirement already satisfied: tenacity!=8.4.0,<9.0.0,>=8.1.0 in c:\\users\\semeh sayadi\\appdata\\roaming\\python\\python312\\site-packages (from langchain_core) (8.5.0)\n",
      "Requirement already satisfied: typing-extensions>=4.7 in c:\\users\\semeh sayadi\\appdata\\roaming\\python\\python312\\site-packages (from langchain_core) (4.12.2)\n",
      "Requirement already satisfied: jsonpointer>=1.9 in c:\\users\\semeh sayadi\\appdata\\roaming\\python\\python312\\site-packages (from jsonpatch<2.0,>=1.33->langchain_core) (3.0.0)\n",
      "Requirement already satisfied: httpx<1,>=0.23.0 in c:\\users\\semeh sayadi\\appdata\\roaming\\python\\python312\\site-packages (from langsmith<0.2.0,>=0.1.125->langchain_core) (0.27.2)\n",
      "Requirement already satisfied: orjson<4.0.0,>=3.9.14 in c:\\users\\semeh sayadi\\appdata\\roaming\\python\\python312\\site-packages (from langsmith<0.2.0,>=0.1.125->langchain_core) (3.10.7)\n",
      "Requirement already satisfied: requests<3,>=2 in c:\\users\\semeh sayadi\\appdata\\roaming\\python\\python312\\site-packages (from langsmith<0.2.0,>=0.1.125->langchain_core) (2.32.3)\n",
      "Requirement already satisfied: annotated-types>=0.6.0 in c:\\users\\semeh sayadi\\appdata\\roaming\\python\\python312\\site-packages (from pydantic<3.0.0,>=2.5.2->langchain_core) (0.7.0)\n",
      "Requirement already satisfied: pydantic-core==2.23.4 in c:\\users\\semeh sayadi\\appdata\\roaming\\python\\python312\\site-packages (from pydantic<3.0.0,>=2.5.2->langchain_core) (2.23.4)\n",
      "Requirement already satisfied: anyio in c:\\users\\semeh sayadi\\appdata\\roaming\\python\\python312\\site-packages (from httpx<1,>=0.23.0->langsmith<0.2.0,>=0.1.125->langchain_core) (4.6.0)\n",
      "Requirement already satisfied: certifi in c:\\users\\semeh sayadi\\appdata\\roaming\\python\\python312\\site-packages (from httpx<1,>=0.23.0->langsmith<0.2.0,>=0.1.125->langchain_core) (2023.11.17)\n",
      "Requirement already satisfied: httpcore==1.* in c:\\users\\semeh sayadi\\appdata\\roaming\\python\\python312\\site-packages (from httpx<1,>=0.23.0->langsmith<0.2.0,>=0.1.125->langchain_core) (1.0.6)\n",
      "Requirement already satisfied: idna in c:\\users\\semeh sayadi\\appdata\\roaming\\python\\python312\\site-packages (from httpx<1,>=0.23.0->langsmith<0.2.0,>=0.1.125->langchain_core) (3.6)\n",
      "Requirement already satisfied: sniffio in c:\\users\\semeh sayadi\\appdata\\roaming\\python\\python312\\site-packages (from httpx<1,>=0.23.0->langsmith<0.2.0,>=0.1.125->langchain_core) (1.3.1)\n",
      "Requirement already satisfied: h11<0.15,>=0.13 in c:\\users\\semeh sayadi\\appdata\\roaming\\python\\python312\\site-packages (from httpcore==1.*->httpx<1,>=0.23.0->langsmith<0.2.0,>=0.1.125->langchain_core) (0.14.0)\n",
      "Requirement already satisfied: charset-normalizer<4,>=2 in c:\\users\\semeh sayadi\\appdata\\roaming\\python\\python312\\site-packages (from requests<3,>=2->langsmith<0.2.0,>=0.1.125->langchain_core) (3.3.2)\n",
      "Requirement already satisfied: urllib3<3,>=1.21.1 in c:\\users\\semeh sayadi\\appdata\\roaming\\python\\python312\\site-packages (from requests<3,>=2->langsmith<0.2.0,>=0.1.125->langchain_core) (2.1.0)\n"
     ]
    }
   ],
   "source": [
    "!pip install langchain_core"
   ]
  },
  {
   "cell_type": "code",
   "execution_count": 9,
   "metadata": {},
   "outputs": [],
   "source": [
    "from langchain_core.messages import HumanMessage,SystemMessage\n",
    "\n",
    "messages =[\n",
    "\n",
    "    SystemMessage(content=\"translate from english to french\"),\n",
    "    HumanMessage(content=\"Hello, how are you doing today ?\")\n",
    "]\n",
    "\n",
    "resuly = model.invoke(messages)"
   ]
  },
  {
   "cell_type": "code",
   "execution_count": 10,
   "metadata": {},
   "outputs": [
    {
     "data": {
      "text/plain": [
       "'Here\\'s the translation of \"Hello, how are you doing today?\" in French:\\n\\n* **Bonjour, comment allez-vous aujourd\\'hui ?**  (Formal)\\n* **Salut, comment vas-tu aujourd\\'hui ?** (Informal)\\n\\n\\nLet me know if you\\'d like to see other translations! \\n'"
      ]
     },
     "execution_count": 10,
     "metadata": {},
     "output_type": "execute_result"
    }
   ],
   "source": [
    "#stroutpout\n",
    "\n",
    "from langchain_core.output_parsers import StrOutputParser\n",
    "\n",
    "parser=StrOutputParser()\n",
    "parser.invoke(resuly)"
   ]
  },
  {
   "cell_type": "code",
   "execution_count": 11,
   "metadata": {},
   "outputs": [
    {
     "data": {
      "text/plain": [
       "\"Hello, how are you doing today?  translates to:\\n\\n**Bonjour, comment vas-tu aujourd'hui ?** \\n\\n(Informal, for someone you know well)\\n\\nor\\n\\n**Bonjour, comment allez-vous aujourd'hui ?** \\n\\n(Formal, for someone you don't know well or someone older) \\n\\n\\n\""
      ]
     },
     "execution_count": 11,
     "metadata": {},
     "output_type": "execute_result"
    }
   ],
   "source": [
    "#using LCEL we can change the components \n",
    "\n",
    "chain = model|parser\n",
    "chain.invoke(messages)"
   ]
  },
  {
   "cell_type": "code",
   "execution_count": 16,
   "metadata": {},
   "outputs": [],
   "source": [
    "#prompt templates\n",
    "\n",
    "from langchain_core.prompts import ChatPromptTemplate\n",
    "\n",
    "generic_template = \"Translate the following into {language} :\"\n",
    "prompt = ChatPromptTemplate.from_messages(\n",
    "    [\n",
    "       (\"system\",generic_template),(\"user\",\"{text}\") \n",
    "    ]\n",
    ")\n",
    "\n",
    "response = prompt.invoke({\"language\":\"English\" ,\"text\":\"bonjour,madame\"})"
   ]
  },
  {
   "cell_type": "code",
   "execution_count": 17,
   "metadata": {},
   "outputs": [
    {
     "data": {
      "text/plain": [
       "[SystemMessage(content='Translate the following into English :', additional_kwargs={}, response_metadata={}),\n",
       " HumanMessage(content='bonjour,madame', additional_kwargs={}, response_metadata={})]"
      ]
     },
     "execution_count": 17,
     "metadata": {},
     "output_type": "execute_result"
    }
   ],
   "source": [
    "response.to_messages()"
   ]
  },
  {
   "cell_type": "code",
   "execution_count": 20,
   "metadata": {},
   "outputs": [
    {
     "data": {
      "text/plain": [
       "\"أرجو أن تكون بخير اليوم \\n\\n(Arju an tu'ku bikhayr al-yawm) \\n\\n\\nLet me know if you have anything else you'd like me to translate! \\n\""
      ]
     },
     "execution_count": 20,
     "metadata": {},
     "output_type": "execute_result"
    }
   ],
   "source": [
    "chain = prompt|model|parser\n",
    "\n",
    "chain.invoke({\"language\":\"Arabic\",\"text\":\"I hope you're doing well today\"})"
   ]
  },
  {
   "cell_type": "code",
   "execution_count": null,
   "metadata": {},
   "outputs": [],
   "source": []
  },
  {
   "cell_type": "code",
   "execution_count": null,
   "metadata": {},
   "outputs": [],
   "source": []
  }
 ],
 "metadata": {
  "kernelspec": {
   "display_name": "Python 3",
   "language": "python",
   "name": "python3"
  },
  "language_info": {
   "codemirror_mode": {
    "name": "ipython",
    "version": 3
   },
   "file_extension": ".py",
   "mimetype": "text/x-python",
   "name": "python",
   "nbconvert_exporter": "python",
   "pygments_lexer": "ipython3",
   "version": "3.12.0"
  }
 },
 "nbformat": 4,
 "nbformat_minor": 2
}
